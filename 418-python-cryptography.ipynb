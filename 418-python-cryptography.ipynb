{
 "cells": [
  {
   "cell_type": "code",
   "execution_count": 1,
   "metadata": {},
   "outputs": [],
   "source": [
    "from cryptography.hazmat.primitives.ciphers import Cipher, algorithms, modes\n",
    "from cryptography.hazmat.backends import default_backend\n",
    "from cryptography.hazmat.primitives import padding\n",
    "from cryptography.hazmat.primitives import hashes\n",
    "import os"
   ]
  },
  {
   "cell_type": "code",
   "execution_count": 2,
   "metadata": {},
   "outputs": [
    {
     "name": "stdout",
     "output_type": "stream",
     "text": [
      "9373605f36e761d0fb67fa43196ec8a9\n",
      "b'\\x00\\x00\\x00\\x00\\x00\\x00\\x00\\x00\\x00\\x00\\x00\\x00\\x00\\x00\\x00\\x00'\n"
     ]
    }
   ],
   "source": [
    "# Most objects will require a backend, only one is available\n",
    "b = default_backend()\n",
    "\n",
    "iv = os.urandom(16); print(iv.hex())\n",
    "type(iv)\n",
    "\n",
    "sadkey = bytes(16); print(sadkey)"
   ]
  },
  {
   "cell_type": "code",
   "execution_count": 3,
   "metadata": {},
   "outputs": [
    {
     "name": "stdout",
     "output_type": "stream",
     "text": [
      "534e414b453f\n"
     ]
    }
   ],
   "source": [
    "## Instantiating a cipher object\n",
    "cipher_ob = Cipher(algorithms.AES(sadkey), modes.CBC(iv), b)\n",
    "\n",
    "\n",
    "msg = \"SNAKE?\";\n",
    "msg_bytes = bytearray(msg.encode('utf-8')); print(msg_bytes.hex()) #convert to bytearray and print hex values\n",
    "\n",
    "\n",
    "aes_encryptor = cipher_ob.encryptor();\n",
    "\n",
    "ctxt = aes_encryptor.update(msg_bytes);\n",
    "\n",
    "msg2 = \"SNAAAAAKE\";\n",
    "msg_bytes2 = bytearray(msg.encode('utf-8'));\n",
    "\n",
    "ctxt += aes_encryptor.update(msg_bytes);"
   ]
  },
  {
   "cell_type": "code",
   "execution_count": 43,
   "metadata": {},
   "outputs": [
    {
     "ename": "ValueError",
     "evalue": "The length of the provided data is not a multiple of the block length.",
     "output_type": "error",
     "traceback": [
      "\u001b[1;31m---------------------------------------------------------------------------\u001b[0m",
      "\u001b[1;31mValueError\u001b[0m                                Traceback (most recent call last)",
      "\u001b[1;32m<ipython-input-43-d9fc197121c5>\u001b[0m in \u001b[0;36m<module>\u001b[1;34m\u001b[0m\n\u001b[1;32m----> 1\u001b[1;33m \u001b[0mctxt\u001b[0m \u001b[1;33m+=\u001b[0m \u001b[0maes_encryptor\u001b[0m\u001b[1;33m.\u001b[0m\u001b[0mfinalize\u001b[0m\u001b[1;33m(\u001b[0m\u001b[1;33m)\u001b[0m\u001b[1;33m\u001b[0m\u001b[1;33m\u001b[0m\u001b[0m\n\u001b[0m",
      "\u001b[1;32mc:\\users\\randy\\appdata\\local\\programs\\python\\python38-32\\lib\\site-packages\\cryptography\\hazmat\\primitives\\ciphers\\base.py\u001b[0m in \u001b[0;36mfinalize\u001b[1;34m(self)\u001b[0m\n\u001b[0;32m    157\u001b[0m         \u001b[1;32mif\u001b[0m \u001b[0mself\u001b[0m\u001b[1;33m.\u001b[0m\u001b[0m_ctx\u001b[0m \u001b[1;32mis\u001b[0m \u001b[1;32mNone\u001b[0m\u001b[1;33m:\u001b[0m\u001b[1;33m\u001b[0m\u001b[1;33m\u001b[0m\u001b[0m\n\u001b[0;32m    158\u001b[0m             \u001b[1;32mraise\u001b[0m \u001b[0mAlreadyFinalized\u001b[0m\u001b[1;33m(\u001b[0m\u001b[1;34m\"Context was already finalized.\"\u001b[0m\u001b[1;33m)\u001b[0m\u001b[1;33m\u001b[0m\u001b[1;33m\u001b[0m\u001b[0m\n\u001b[1;32m--> 159\u001b[1;33m         \u001b[0mdata\u001b[0m \u001b[1;33m=\u001b[0m \u001b[0mself\u001b[0m\u001b[1;33m.\u001b[0m\u001b[0m_ctx\u001b[0m\u001b[1;33m.\u001b[0m\u001b[0mfinalize\u001b[0m\u001b[1;33m(\u001b[0m\u001b[1;33m)\u001b[0m\u001b[1;33m\u001b[0m\u001b[1;33m\u001b[0m\u001b[0m\n\u001b[0m\u001b[0;32m    160\u001b[0m         \u001b[0mself\u001b[0m\u001b[1;33m.\u001b[0m\u001b[0m_ctx\u001b[0m \u001b[1;33m=\u001b[0m \u001b[1;32mNone\u001b[0m\u001b[1;33m\u001b[0m\u001b[1;33m\u001b[0m\u001b[0m\n\u001b[0;32m    161\u001b[0m         \u001b[1;32mreturn\u001b[0m \u001b[0mdata\u001b[0m\u001b[1;33m\u001b[0m\u001b[1;33m\u001b[0m\u001b[0m\n",
      "\u001b[1;32mc:\\users\\randy\\appdata\\local\\programs\\python\\python38-32\\lib\\site-packages\\cryptography\\hazmat\\backends\\openssl\\ciphers.py\u001b[0m in \u001b[0;36mfinalize\u001b[1;34m(self)\u001b[0m\n\u001b[0;32m    176\u001b[0m                 )\n\u001b[0;32m    177\u001b[0m             )\n\u001b[1;32m--> 178\u001b[1;33m             raise ValueError(\n\u001b[0m\u001b[0;32m    179\u001b[0m                 \u001b[1;34m\"The length of the provided data is not a multiple of \"\u001b[0m\u001b[1;33m\u001b[0m\u001b[1;33m\u001b[0m\u001b[0m\n\u001b[0;32m    180\u001b[0m                 \u001b[1;34m\"the block length.\"\u001b[0m\u001b[1;33m\u001b[0m\u001b[1;33m\u001b[0m\u001b[0m\n",
      "\u001b[1;31mValueError\u001b[0m: The length of the provided data is not a multiple of the block length."
     ]
    }
   ],
   "source": [
    "ctxt += aes_encryptor.finalize()"
   ]
  },
  {
   "cell_type": "code",
   "execution_count": 4,
   "metadata": {},
   "outputs": [
    {
     "name": "stdout",
     "output_type": "stream",
     "text": [
      "Plaintext is         534e414b453f534e414b453f\n",
      "Padded plaintext is  534e414b453f534e414b453f04040404\n"
     ]
    }
   ],
   "source": [
    "## Instantiating a cipher object\n",
    "\n",
    "\n",
    "\n",
    "msg = \"SNAKE?\";\n",
    "msg_bytes = bytearray(msg.encode('utf-8'));       #convert msg to bytearray \n",
    "\n",
    "\n",
    "\n",
    "\n",
    "msg2 = \"SNAAAAAKE\";\n",
    "msg_bytes2 = bytearray(msg.encode('utf-8'));     # convert msg2 to bytearray\n",
    "\n",
    "msg_bytes += msg_bytes2;\n",
    "print(\"Plaintext is        \", msg_bytes.hex())\n",
    "\n",
    "# Create a padding object using PKCS7 protocol\n",
    "pad_ob = padding.PKCS7(128).padder()\n",
    "\n",
    "msg_pad = pad_ob.update(bytes(msg_bytes))        # padding objects only take in 'bytes'\n",
    "\n",
    "msg_pad+= pad_ob.finalize()\n",
    "print(\"Padded plaintext is \", msg_pad.hex())"
   ]
  },
  {
   "cell_type": "code",
   "execution_count": 5,
   "metadata": {},
   "outputs": [
    {
     "name": "stdout",
     "output_type": "stream",
     "text": [
      "34ccf473dc4aecab9dc2a9b17a1e339e\n"
     ]
    }
   ],
   "source": [
    "cipher_ob = Cipher(algorithms.AES(sadkey), modes.CBC(iv), b)\n",
    "\n",
    "aes_encryptor = cipher_ob.encryptor();\n",
    "\n",
    "ctxt = aes_encryptor.update(msg_pad);\n",
    "print(ctxt.hex())"
   ]
  },
  {
   "cell_type": "code",
   "execution_count": 16,
   "metadata": {},
   "outputs": [
    {
     "data": {
      "text/plain": [
       "16"
      ]
     },
     "execution_count": 16,
     "metadata": {},
     "output_type": "execute_result"
    }
   ],
   "source": [
    "pw = \"password\"\n",
    "myhash = hashes.Hash(hashes.MD5(), b)\n",
    "myhash.update(pw.encode('utf-8'))\n",
    "output = (myhash).finalize()\n",
    "type(output)\n",
    "len(output)                                      # Hash outputs a byte which is the right size for AES-128"
   ]
  },
  {
   "cell_type": "code",
   "execution_count": null,
   "metadata": {},
   "outputs": [],
   "source": []
  }
 ],
 "metadata": {
  "kernelspec": {
   "display_name": "Python 3",
   "language": "python",
   "name": "python3"
  },
  "language_info": {
   "codemirror_mode": {
    "name": "ipython",
    "version": 3
   },
   "file_extension": ".py",
   "mimetype": "text/x-python",
   "name": "python",
   "nbconvert_exporter": "python",
   "pygments_lexer": "ipython3",
   "version": "3.8.0"
  }
 },
 "nbformat": 4,
 "nbformat_minor": 4
}
